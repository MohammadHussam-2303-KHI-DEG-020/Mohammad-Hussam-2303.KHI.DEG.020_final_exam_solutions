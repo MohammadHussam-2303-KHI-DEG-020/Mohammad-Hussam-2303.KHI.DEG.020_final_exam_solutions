{
 "cells": [
  {
   "cell_type": "code",
   "execution_count": 1,
   "id": "065c57ee-f9b9-4183-90f3-a2cf104fcad0",
   "metadata": {},
   "outputs": [],
   "source": [
    "from pyspark.sql import SparkSession\n",
    "from pyspark.sql.functions import from_json,col, isnan, when, lower\n",
    "from pyspark.sql.types import StructType, StringType, FloatType, IntegerType, StructField,DoubleType,T\n",
    "from pyspark.sql import functions as F"
   ]
  },
  {
   "cell_type": "code",
   "execution_count": 2,
   "id": "bb10ae26-c7ff-4737-92fa-45349eeb300c",
   "metadata": {},
   "outputs": [],
   "source": [
    "spark = (\n",
    "    SparkSession.builder.master(\"local[1]\")\n",
    "    .appName(\"solution\")\n",
    "    .config(\n",
    "        \"spark.jars.packages\",\n",
    "        \"org.apache.spark:spark-sql-kafka-0-10_2.12:3.3.1\",\n",
    "    )\n",
    "    .getOrCreate()\n",
    ")"
   ]
  },
  {
   "cell_type": "code",
   "execution_count": 3,
   "id": "a400b68b-8aa0-4535-b4f1-e219f632fd29",
   "metadata": {},
   "outputs": [
    {
     "data": {
      "text/html": [
       "\n",
       "            <div>\n",
       "                <p><b>SparkSession - in-memory</b></p>\n",
       "                \n",
       "        <div>\n",
       "            <p><b>SparkContext</b></p>\n",
       "\n",
       "            <p><a href=\"http://192.168.4.159:4040\">Spark UI</a></p>\n",
       "\n",
       "            <dl>\n",
       "              <dt>Version</dt>\n",
       "                <dd><code>v3.3.1</code></dd>\n",
       "              <dt>Master</dt>\n",
       "                <dd><code>local[1]</code></dd>\n",
       "              <dt>AppName</dt>\n",
       "                <dd><code>solution</code></dd>\n",
       "            </dl>\n",
       "        </div>\n",
       "        \n",
       "            </div>\n",
       "        "
      ],
      "text/plain": [
       "<pyspark.sql.session.SparkSession at 0x7fee73c891e0>"
      ]
     },
     "execution_count": 3,
     "metadata": {},
     "output_type": "execute_result"
    }
   ],
   "source": [
    "spark"
   ]
  },
  {
   "cell_type": "code",
   "execution_count": 4,
   "id": "f89f4be3-d089-4da1-95a7-78c6e8e7fd96",
   "metadata": {},
   "outputs": [],
   "source": [
    "landslides_schema = StructType([\n",
    "    StructField(\"id\", StringType()),\n",
    "    StructField(\"distance\", StringType()),\n",
    "    StructField(\"landslide_size\", StringType()),\n",
    "    StructField(\"injuries\", StringType()),\n",
    "    StructField(\"fatalities\", StringType()),\n",
    "     StructField(\"location_columns\", StructType([\n",
    "         StructField(\"country_code\", StringType()),\n",
    "         StructField(\"state/province\", StringType()),\n",
    "         StructField(\"city/town\", StringType()),\n",
    "         StructField(\"population\", StringType()),\n",
    "         StructField(\"latitude\", StringType()),\n",
    "         StructField(\"longitude\", StringType())\n",
    "     ])),\n",
    "        StructField(\"time_columns\", StructType([\n",
    "        StructField(\"date\", StringType()),\n",
    "        StructField(\"time\", StringType()),\n",
    "     ]))\n",
    "])\n"
   ]
  },
  {
   "cell_type": "code",
   "execution_count": 5,
   "id": "8931e208-232f-4f4e-9986-37c3e1dd4a1f",
   "metadata": {},
   "outputs": [
    {
     "name": "stdout",
     "output_type": "stream",
     "text": [
      "root\n",
      " |-- key: binary (nullable = true)\n",
      " |-- value: binary (nullable = true)\n",
      " |-- topic: string (nullable = true)\n",
      " |-- partition: integer (nullable = true)\n",
      " |-- offset: long (nullable = true)\n",
      " |-- timestamp: timestamp (nullable = true)\n",
      " |-- timestampType: integer (nullable = true)\n",
      "\n"
     ]
    }
   ],
   "source": [
    "data = spark \\\n",
    "  .read \\\n",
    "  .format(\"kafka\") \\\n",
    "  .option(\"kafka.bootstrap.servers\", \"localhost:9092\") \\\n",
    "  .option(\"subscribe\", \"landslides_topic\") \\\n",
    "  .option(\"failOnDataLoss\", \"true\") \\\n",
    "  .load()\n",
    "data.printSchema()"
   ]
  },
  {
   "cell_type": "code",
   "execution_count": 6,
   "id": "ca56c1ac-d86c-4d43-a848-4bddeee3cf66",
   "metadata": {},
   "outputs": [
    {
     "name": "stdout",
     "output_type": "stream",
     "text": [
      "+---+--------+--------------+--------+----------+--------------------+---------------+\n",
      "| id|distance|landslide_size|injuries|fatalities|    location_columns|   time_columns|\n",
      "+---+--------+--------------+--------+----------+--------------------+---------------+\n",
      "| 34| 3.40765|         Small|    null|      null|{US, Virginia, Ch...|{3/2/07, Night}|\n",
      "| 42| 3.33522|         Small|    null|      null|{US, Ohio, New Ph...|{3/22/07, null}|\n",
      "| 56| 2.91977|         Small|    null|      null|{US, Pennsylvania...| {4/6/07, null}|\n",
      "| 59| 2.98682|         Small|    null|      null|{CA, Quebec, Chât...|{4/14/07, null}|\n",
      "| 61| 5.66542|         Small|    null|       0.0|{US, Kentucky, Pi...|{4/15/07, null}|\n",
      "+---+--------+--------------+--------+----------+--------------------+---------------+\n",
      "only showing top 5 rows\n",
      "\n",
      "root\n",
      " |-- id: string (nullable = true)\n",
      " |-- distance: string (nullable = true)\n",
      " |-- landslide_size: string (nullable = true)\n",
      " |-- injuries: string (nullable = true)\n",
      " |-- fatalities: string (nullable = true)\n",
      " |-- location_columns: struct (nullable = true)\n",
      " |    |-- country_code: string (nullable = true)\n",
      " |    |-- state/province: string (nullable = true)\n",
      " |    |-- city/town: string (nullable = true)\n",
      " |    |-- population: string (nullable = true)\n",
      " |    |-- latitude: string (nullable = true)\n",
      " |    |-- longitude: string (nullable = true)\n",
      " |-- time_columns: struct (nullable = true)\n",
      " |    |-- date: string (nullable = true)\n",
      " |    |-- time: string (nullable = true)\n",
      "\n"
     ]
    }
   ],
   "source": [
    "parse_data = data.selectExpr(\"CAST(value AS STRING)\").select(from_json(col(\"value\"), landslides_schema).alias(\"data\")).select(\"data.*\")\n",
    "parse_data.show(5)\n",
    "parse_data.printSchema()"
   ]
  },
  {
   "cell_type": "code",
   "execution_count": 7,
   "id": "0d421781-2037-491d-bfa5-10b9b90f02eb",
   "metadata": {},
   "outputs": [
    {
     "data": {
      "text/plain": [
       "3386"
      ]
     },
     "execution_count": 7,
     "metadata": {},
     "output_type": "execute_result"
    }
   ],
   "source": [
    "parse_data.count()"
   ]
  },
  {
   "cell_type": "code",
   "execution_count": 8,
   "id": "11b8b7bf-2b22-49eb-bbf2-6a4ff0ead84f",
   "metadata": {},
   "outputs": [],
   "source": [
    "denest_df = parse_data.dropDuplicates()"
   ]
  },
  {
   "cell_type": "code",
   "execution_count": 9,
   "id": "64d447a5-c094-4af2-a7d6-904f7e7fba14",
   "metadata": {},
   "outputs": [
    {
     "name": "stdout",
     "output_type": "stream",
     "text": [
      "+----+--------+--------------+--------+----------+--------------------+------------------+\n",
      "|  id|distance|landslide_size|injuries|fatalities|    location_columns|      time_columns|\n",
      "+----+--------+--------------+--------+----------+--------------------+------------------+\n",
      "| 277| 2.79113|        Medium|    null|       3.0|{GT, Guatemala, G...|   {9/22/07, null}|\n",
      "| 984| 4.86398|        Medium|    null|       0.0|{DO, Santiago, Pe...|   {2/12/09, null}|\n",
      "|2156| 4.00979|         Small|    null|       0.0|{TT, Diego Martin...|   {7/29/10, null}|\n",
      "|3130|  3.7758|        Medium|    null|       0.0|{JM, Saint Mary, ...|   {2/16/11, null}|\n",
      "|3825| 3.75018|        Medium|    null|       0.0|{US, Florida, Wil...|   {7/21/11, null}|\n",
      "|4613| 4.23278|        Medium|    null|      null|{US, North Caroli...|  {11/14/12, null}|\n",
      "|4715| 5.63904|        Medium|    null|      null|{US, North Caroli...|   {1/15/13, null}|\n",
      "|4922| 1.41843|         Small|    null|       0.0|{US, New York, Mi...|{6/16/13, 0:00:00}|\n",
      "|5078| 7.51462|        Medium|    null|       0.0|{US, West Virgini...|   {7/11/13, null}|\n",
      "|5981| 5.24704|         Small|     0.0|       0.0|{US, Kentucky, Ca...|    {4/4/14, null}|\n",
      "+----+--------+--------------+--------+----------+--------------------+------------------+\n",
      "only showing top 10 rows\n",
      "\n"
     ]
    }
   ],
   "source": [
    "denest_df.drop('time').show(10)"
   ]
  },
  {
   "cell_type": "code",
   "execution_count": 10,
   "id": "7ac1d406-1fc3-43bc-bf13-5300a0f7728a",
   "metadata": {},
   "outputs": [
    {
     "name": "stdout",
     "output_type": "stream",
     "text": [
      "+---+--------+--------------+--------+----------+------------+----------------+----------------+----------+--------+---------+-------+-----+\n",
      "| id|distance|landslide_size|injuries|fatalities|country_code|  state/province|       city/town|population|latitude|longitude|   date| time|\n",
      "+---+--------+--------------+--------+----------+------------+----------------+----------------+----------+--------+---------+-------+-----+\n",
      "| 34| 3.40765|         Small|    null|      null|          US|        Virginia|     Cherry Hill|     16000| 38.6009| -77.2682| 3/2/07|Night|\n",
      "| 42| 3.33522|         Small|    null|      null|          US|            Ohio|New Philadelphia|     17288| 40.5175| -81.4305|3/22/07| null|\n",
      "| 56| 2.91977|         Small|    null|      null|          US|    Pennsylvania|     Wilkinsburg|     15930| 40.4377|  -79.916| 4/6/07| null|\n",
      "| 59| 2.98682|         Small|    null|      null|          CA|          Quebec|     Châteauguay|     42786| 45.3226| -73.7771|4/14/07| null|\n",
      "| 61| 5.66542|         Small|    null|       0.0|          US|        Kentucky|       Pikeville|      6903| 37.4325| -82.4931|4/15/07| null|\n",
      "| 64| 0.23715|         Small|    null|      null|          US|        Kentucky|       Pikeville|      6903| 37.4814| -82.5186|4/20/07| null|\n",
      "| 67| 2.48033|         Small|    null|      null|          US|    South Dakota|    Dakota Dunes|      2540| 42.4941| -96.4576|4/24/07| null|\n",
      "| 77| 0.62022|         Large|    null|      13.0|          CO|       Risaralda|         Pereira|    440118|  4.8081| -75.6941|5/21/07| null|\n",
      "|105| 0.47714|        Medium|    null|      null|          EC|Zamora-Chinchipe|          Zamora|     15276|  -4.065|  -78.951|6/27/07| null|\n",
      "|106| 0.35649|        Medium|    null|      null|          EC|            Loja|            Loja|    117796|   -3.99|  -79.205|6/27/07| null|\n",
      "+---+--------+--------------+--------+----------+------------+----------------+----------------+----------+--------+---------+-------+-----+\n",
      "only showing top 10 rows\n",
      "\n"
     ]
    }
   ],
   "source": [
    "\n",
    "dinest_df = parse_data.select(\n",
    "    \"id\",\n",
    "    \"distance\",\n",
    "    \"landslide_size\",\n",
    "    \"injuries\",\n",
    "    \"fatalities\",\n",
    "    \"location_columns.*\",\n",
    "    \"time_columns.*\"\n",
    "    \n",
    ")\n",
    "dinest_df.show(10)"
   ]
  },
  {
   "cell_type": "code",
   "execution_count": 11,
   "id": "0cfb98e5-35ab-4390-81dd-7e06ef7ac626",
   "metadata": {},
   "outputs": [],
   "source": [
    "dinest_df = dinest_df.fillna({\"latitude\": dinest_df.agg({'latitude': 'avg'}).collect()[0][0]})\n",
    "dinest_df = dinest_df.fillna({\"longitude\": dinest_df.agg({'longitude': 'avg'}).collect()[0][0]})\n",
    "dinest_df = dinest_df.fillna({\"distance\": dinest_df.agg({'distance': 'avg'}).collect()[0][0]})\n"
   ]
  },
  {
   "cell_type": "code",
   "execution_count": 12,
   "id": "6c947abb-2004-45f3-9862-b9ef619201a7",
   "metadata": {},
   "outputs": [
    {
     "name": "stdout",
     "output_type": "stream",
     "text": [
      "+---+--------+--------------+--------+----------+------------+-----------------+--------------------+----------+--------+---------+-------+-----+\n",
      "| id|distance|landslide_size|injuries|fatalities|country_code|   state/province|           city/town|population|latitude|longitude|   date| time|\n",
      "+---+--------+--------------+--------+----------+------------+-----------------+--------------------+----------+--------+---------+-------+-----+\n",
      "| 34| 3.40765|         Small|    null|      null|          US|         Virginia|         Cherry Hill|     16000| 38.6009| -77.2682| 3/2/07|Night|\n",
      "| 42| 3.33522|         Small|    null|      null|          US|             Ohio|    New Philadelphia|     17288| 40.5175| -81.4305|3/22/07| null|\n",
      "| 56| 2.91977|         Small|    null|      null|          US|     Pennsylvania|         Wilkinsburg|     15930| 40.4377|  -79.916| 4/6/07| null|\n",
      "| 59| 2.98682|         Small|    null|      null|          CA|           Quebec|         Châteauguay|     42786| 45.3226| -73.7771|4/14/07| null|\n",
      "| 61| 5.66542|         Small|    null|       0.0|          US|         Kentucky|           Pikeville|      6903| 37.4325| -82.4931|4/15/07| null|\n",
      "| 64| 0.23715|         Small|    null|      null|          US|         Kentucky|           Pikeville|      6903| 37.4814| -82.5186|4/20/07| null|\n",
      "| 67| 2.48033|         Small|    null|      null|          US|     South Dakota|        Dakota Dunes|      2540| 42.4941| -96.4576|4/24/07| null|\n",
      "| 77| 0.62022|         Large|    null|      13.0|          CO|        Risaralda|             Pereira|    440118|  4.8081| -75.6941|5/21/07| null|\n",
      "|105| 0.47714|        Medium|    null|      null|          EC| Zamora-Chinchipe|              Zamora|     15276|  -4.065|  -78.951|6/27/07| null|\n",
      "|106| 0.35649|        Medium|    null|      null|          EC|             Loja|                Loja|    117796|   -3.99|  -79.205|6/27/07| null|\n",
      "|107|33.94603|        Medium|    null|      null|          EC|        Pichincha|           Sangolquí|      5114|  -0.356|  -78.148|6/27/07| null|\n",
      "|109| 0.03668|        Medium|    null|      null|          US|            Texas|         Haltom City|     42409| 32.7995| -97.2688| 7/1/07| null|\n",
      "|115| 9.51003|        Medium|    null|       7.0|          MX|   Veracruz-Llave|Laguna Chica (Pue...|      1947| 18.5369| -96.8229| 7/4/07| null|\n",
      "|119| 1.74759|         Small|    null|      null|          CA|          Ontario|              Ottawa|    812129| 45.4257| -75.6896| 7/8/07| null|\n",
      "|124| 1.70298|         Small|    null|      null|          DO|Distrito Nacional|          San Carlos|     13456| 18.4757|  -69.914|7/13/07|Night|\n",
      "|138| 5.66936|         Small|    null|      null|          US|            Texas|       Grand Prairie|    175396| 32.7883| -97.0317|7/24/07| null|\n",
      "|165| 4.74385|        Medium|    null|       5.0|          GT|        Guatemala|     San José Pinula|     47247| 14.5667|   -90.45| 8/9/07| null|\n",
      "|174| 7.79027|        Medium|    null|      null|          JM|         Portland|        Port Antonio|     14400| 18.1258| -76.5082|8/11/07| null|\n",
      "|185|10.87949|        Medium|    null|      null|          US|         Colorado|              Meeker|      2475| 39.9425|-107.8818|8/14/07| null|\n",
      "|186| 3.39516|         Small|    null|       2.0|          DM|       Saint Paul|          Pont Cassé|       702| 15.3379|  -61.361|8/17/07| null|\n",
      "+---+--------+--------------+--------+----------+------------+-----------------+--------------------+----------+--------+---------+-------+-----+\n",
      "only showing top 20 rows\n",
      "\n"
     ]
    }
   ],
   "source": [
    "\n",
    "df_not_null = dinest_df.filter((F.col(\"date\").isNotNull()) & \\\n",
    "            (F.col(\"state/province\").isNotNull()) & \\\n",
    "             (F.col(\"city/town\").isNotNull()))\n",
    "\n",
    "df_not_null.show()"
   ]
  },
  {
   "cell_type": "code",
   "execution_count": 14,
   "id": "4c6be5d1-6c59-4742-8604-862fde63d22a",
   "metadata": {},
   "outputs": [],
   "source": [
    "from pyspark.sql import functions as F\n",
    "from pyspark.sql.types import IntegerType, DateType\n",
    "\n",
    "dinest_df = dinest_df.withColumn(\"id\", F.col(\"injuries\").cast(IntegerType())) \\\n",
    "                     .withColumn(\"injuries\", F.col(\"injuries\").cast(IntegerType())) \\\n",
    "                     .withColumn(\"fatalities\", F.col(\"fatalities\").cast(IntegerType())) \\\n",
    "                     .withColumn(\"date\", F.col(\"date\").cast(DateType()))\n"
   ]
  },
  {
   "cell_type": "code",
   "execution_count": 16,
   "id": "e550313a-43a8-464f-aad7-8535b0660b01",
   "metadata": {},
   "outputs": [
    {
     "name": "stdout",
     "output_type": "stream",
     "text": [
      "+----+--------+--------------+--------+----------+------------+-----------------+--------------------+----------+--------+---------+----+-----+\n",
      "|  id|distance|landslide_size|injuries|fatalities|country_code|   state/province|           city/town|population|latitude|longitude|date| time|\n",
      "+----+--------+--------------+--------+----------+------------+-----------------+--------------------+----------+--------+---------+----+-----+\n",
      "|null| 3.40765|         Small|    null|      null|          US|         Virginia|         Cherry Hill|     16000| 38.6009| -77.2682|null|Night|\n",
      "|null| 3.33522|         Small|    null|      null|          US|             Ohio|    New Philadelphia|     17288| 40.5175| -81.4305|null| null|\n",
      "|null| 2.91977|         Small|    null|      null|          US|     Pennsylvania|         Wilkinsburg|     15930| 40.4377|  -79.916|null| null|\n",
      "|null| 2.98682|         Small|    null|      null|          CA|           Quebec|         Châteauguay|     42786| 45.3226| -73.7771|null| null|\n",
      "|null| 5.66542|         Small|    null|         0|          US|         Kentucky|           Pikeville|      6903| 37.4325| -82.4931|null| null|\n",
      "|null| 0.23715|         Small|    null|      null|          US|         Kentucky|           Pikeville|      6903| 37.4814| -82.5186|null| null|\n",
      "|null| 2.48033|         Small|    null|      null|          US|     South Dakota|        Dakota Dunes|      2540| 42.4941| -96.4576|null| null|\n",
      "|null| 0.62022|         Large|    null|        13|          CO|        Risaralda|             Pereira|    440118|  4.8081| -75.6941|null| null|\n",
      "|null| 0.47714|        Medium|    null|      null|          EC| Zamora-Chinchipe|              Zamora|     15276|  -4.065|  -78.951|null| null|\n",
      "|null| 0.35649|        Medium|    null|      null|          EC|             Loja|                Loja|    117796|   -3.99|  -79.205|null| null|\n",
      "|null|33.94603|        Medium|    null|      null|          EC|        Pichincha|           Sangolquí|      5114|  -0.356|  -78.148|null| null|\n",
      "|null| 0.03668|        Medium|    null|      null|          US|            Texas|         Haltom City|     42409| 32.7995| -97.2688|null| null|\n",
      "|null| 9.51003|        Medium|    null|         7|          MX|   Veracruz-Llave|Laguna Chica (Pue...|      1947| 18.5369| -96.8229|null| null|\n",
      "|null| 1.74759|         Small|    null|      null|          CA|          Ontario|              Ottawa|    812129| 45.4257| -75.6896|null| null|\n",
      "|null| 1.70298|         Small|    null|      null|          DO|Distrito Nacional|          San Carlos|     13456| 18.4757|  -69.914|null|Night|\n",
      "|null| 5.66936|         Small|    null|      null|          US|            Texas|       Grand Prairie|    175396| 32.7883| -97.0317|null| null|\n",
      "|null| 4.74385|        Medium|    null|         5|          GT|        Guatemala|     San José Pinula|     47247| 14.5667|   -90.45|null| null|\n",
      "|null| 7.79027|        Medium|    null|      null|          JM|         Portland|        Port Antonio|     14400| 18.1258| -76.5082|null| null|\n",
      "|null|10.87949|        Medium|    null|      null|          US|         Colorado|              Meeker|      2475| 39.9425|-107.8818|null| null|\n",
      "|null| 3.39516|         Small|    null|         2|          DM|       Saint Paul|          Pont Cassé|       702| 15.3379|  -61.361|null| null|\n",
      "+----+--------+--------------+--------+----------+------------+-----------------+--------------------+----------+--------+---------+----+-----+\n",
      "only showing top 20 rows\n",
      "\n"
     ]
    }
   ],
   "source": [
    "dinest_df.show()"
   ]
  },
  {
   "cell_type": "code",
   "execution_count": 18,
   "id": "e4b5734e-0523-4299-8c70-def2754e976f",
   "metadata": {},
   "outputs": [
    {
     "data": {
      "text/plain": [
       "DataFrame[id: int, distance: string, landslide_size: string, injuries: int, fatalities: int, country_code: string, state/province: string, city/town: string, population: string, latitude: string, longitude: string, date: date, time: string]"
      ]
     },
     "execution_count": 18,
     "metadata": {},
     "output_type": "execute_result"
    }
   ],
   "source": [
    "fixed_df = dinest_df.withColumn(\"injuries\", F.when(col(\"injuries\").isNull(), 0).otherwise(col(\"injuries\"))) \\\n",
    "    .withColumn(\"fatalities\", F.when(col(\"fatalities\").isNull(), 0).otherwise(col(\"fatalities\")))\n",
    "fixed_df"
   ]
  },
  {
   "cell_type": "code",
   "execution_count": 19,
   "id": "341a86dc-c383-4722-9df9-ecee5c59478d",
   "metadata": {},
   "outputs": [],
   "source": [
    "lowercased_data = fixed_df.withColumn(\"landslide_size\", F.expr(\"lower(landslide_size)\"))"
   ]
  },
  {
   "cell_type": "code",
   "execution_count": 21,
   "id": "915008d3-2a1c-41c9-a291-84d2f13c9bc2",
   "metadata": {},
   "outputs": [
    {
     "name": "stdout",
     "output_type": "stream",
     "text": [
      "+----+--------+--------------+--------+----------+------------+-----------------+--------------------+----------+--------+---------+----+-----+\n",
      "|  id|distance|landslide_size|injuries|fatalities|country_code|   state/province|           city/town|population|latitude|longitude|date| time|\n",
      "+----+--------+--------------+--------+----------+------------+-----------------+--------------------+----------+--------+---------+----+-----+\n",
      "|null| 3.40765|         small|       0|         0|          US|         Virginia|         Cherry Hill|     16000| 38.6009| -77.2682|null|Night|\n",
      "|null| 3.33522|         small|       0|         0|          US|             Ohio|    New Philadelphia|     17288| 40.5175| -81.4305|null| null|\n",
      "|null| 2.91977|         small|       0|         0|          US|     Pennsylvania|         Wilkinsburg|     15930| 40.4377|  -79.916|null| null|\n",
      "|null| 2.98682|         small|       0|         0|          CA|           Quebec|         Châteauguay|     42786| 45.3226| -73.7771|null| null|\n",
      "|null| 5.66542|         small|       0|         0|          US|         Kentucky|           Pikeville|      6903| 37.4325| -82.4931|null| null|\n",
      "|null| 0.23715|         small|       0|         0|          US|         Kentucky|           Pikeville|      6903| 37.4814| -82.5186|null| null|\n",
      "|null| 2.48033|         small|       0|         0|          US|     South Dakota|        Dakota Dunes|      2540| 42.4941| -96.4576|null| null|\n",
      "|null| 0.62022|         large|       0|        13|          CO|        Risaralda|             Pereira|    440118|  4.8081| -75.6941|null| null|\n",
      "|null| 0.47714|        medium|       0|         0|          EC| Zamora-Chinchipe|              Zamora|     15276|  -4.065|  -78.951|null| null|\n",
      "|null| 0.35649|        medium|       0|         0|          EC|             Loja|                Loja|    117796|   -3.99|  -79.205|null| null|\n",
      "|null|33.94603|        medium|       0|         0|          EC|        Pichincha|           Sangolquí|      5114|  -0.356|  -78.148|null| null|\n",
      "|null| 0.03668|        medium|       0|         0|          US|            Texas|         Haltom City|     42409| 32.7995| -97.2688|null| null|\n",
      "|null| 9.51003|        medium|       0|         7|          MX|   Veracruz-Llave|Laguna Chica (Pue...|      1947| 18.5369| -96.8229|null| null|\n",
      "|null| 1.74759|         small|       0|         0|          CA|          Ontario|              Ottawa|    812129| 45.4257| -75.6896|null| null|\n",
      "|null| 1.70298|         small|       0|         0|          DO|Distrito Nacional|          San Carlos|     13456| 18.4757|  -69.914|null|Night|\n",
      "|null| 5.66936|         small|       0|         0|          US|            Texas|       Grand Prairie|    175396| 32.7883| -97.0317|null| null|\n",
      "|null| 4.74385|        medium|       0|         5|          GT|        Guatemala|     San José Pinula|     47247| 14.5667|   -90.45|null| null|\n",
      "|null| 7.79027|        medium|       0|         0|          JM|         Portland|        Port Antonio|     14400| 18.1258| -76.5082|null| null|\n",
      "|null|10.87949|        medium|       0|         0|          US|         Colorado|              Meeker|      2475| 39.9425|-107.8818|null| null|\n",
      "|null| 3.39516|         small|       0|         2|          DM|       Saint Paul|          Pont Cassé|       702| 15.3379|  -61.361|null| null|\n",
      "+----+--------+--------------+--------+----------+------------+-----------------+--------------------+----------+--------+---------+----+-----+\n",
      "only showing top 20 rows\n",
      "\n"
     ]
    }
   ],
   "source": [
    "lowercased_data.show()"
   ]
  },
  {
   "cell_type": "code",
   "execution_count": 22,
   "id": "3dbe24da-3009-4fd8-895f-88c3a59f4fab",
   "metadata": {},
   "outputs": [],
   "source": [
    "Country_schema = StructType([\n",
    "    StructField(\"country_name\", StringType()),\n",
    "    StructField(\"country_code\", StringType()),])"
   ]
  },
  {
   "cell_type": "code",
   "execution_count": 25,
   "id": "9f3c25d0-34af-4660-9476-499bb408efdf",
   "metadata": {},
   "outputs": [
    {
     "name": "stdout",
     "output_type": "stream",
     "text": [
      "root\n",
      " |-- key: binary (nullable = true)\n",
      " |-- value: binary (nullable = true)\n",
      " |-- topic: string (nullable = true)\n",
      " |-- partition: integer (nullable = true)\n",
      " |-- offset: long (nullable = true)\n",
      " |-- timestamp: timestamp (nullable = true)\n",
      " |-- timestampType: integer (nullable = true)\n",
      "\n"
     ]
    }
   ],
   "source": [
    "new_data = spark \\\n",
    "  .read \\\n",
    "  .format(\"kafka\") \\\n",
    "  .option(\"kafka.bootstrap.servers\", \"localhost:9092\") \\\n",
    "  .option(\"subscribe\", \"countries_topic\") \\\n",
    "  .option(\"failOnDataLoss\", \"true\") \\\n",
    "  .load()\n",
    "new_data.printSchema()"
   ]
  },
  {
   "cell_type": "code",
   "execution_count": 27,
   "id": "2157736a-d404-4386-83d8-cab0905246cb",
   "metadata": {},
   "outputs": [
    {
     "name": "stdout",
     "output_type": "stream",
     "text": [
      "+----+--------------------+---------------+---------+------+--------------------+-------------+\n",
      "| key|               value|          topic|partition|offset|           timestamp|timestampType|\n",
      "+----+--------------------+---------------+---------+------+--------------------+-------------+\n",
      "|null|[7B 22 63 6F 75 6...|countries_topic|        0|     0|2023-07-13 13:17:...|            0|\n",
      "|null|[7B 22 63 6F 75 6...|countries_topic|        0|     1|2023-07-13 13:17:...|            0|\n",
      "|null|[7B 22 63 6F 75 6...|countries_topic|        0|     2|2023-07-13 13:17:...|            0|\n",
      "|null|[7B 22 63 6F 75 6...|countries_topic|        0|     3|2023-07-13 13:17:...|            0|\n",
      "|null|[7B 22 63 6F 75 6...|countries_topic|        0|     4|2023-07-13 13:17:...|            0|\n",
      "+----+--------------------+---------------+---------+------+--------------------+-------------+\n",
      "only showing top 5 rows\n",
      "\n"
     ]
    }
   ],
   "source": [
    "new_data.show(5)"
   ]
  },
  {
   "cell_type": "code",
   "execution_count": 30,
   "id": "ebb490b5-4de4-4d00-8294-1307074d69e1",
   "metadata": {},
   "outputs": [],
   "source": [
    "country_data = new_data.selectExpr(\"CAST(value AS STRING)\").select(from_json(col(\"value\"), Country_schema).alias(\"aws\")).select(\"aws.*\")"
   ]
  },
  {
   "cell_type": "code",
   "execution_count": 31,
   "id": "408a07a4-940c-413e-aac4-a43d57ab03a8",
   "metadata": {},
   "outputs": [
    {
     "name": "stdout",
     "output_type": "stream",
     "text": [
      "root\n",
      " |-- country_name: string (nullable = true)\n",
      " |-- country_code: string (nullable = true)\n",
      "\n"
     ]
    }
   ],
   "source": [
    "country_data.printSchema()"
   ]
  },
  {
   "cell_type": "code",
   "execution_count": 32,
   "id": "f1d531c5-7268-4110-b943-89bb485e574d",
   "metadata": {},
   "outputs": [
    {
     "name": "stdout",
     "output_type": "stream",
     "text": [
      "+------------+------------------+\n",
      "|country_name|      country_code|\n",
      "+------------+------------------+\n",
      "|          US|     United States|\n",
      "|          CA|            Canada|\n",
      "|          CO|          Colombia|\n",
      "|          EC|           Ecuador|\n",
      "|          MX|            Mexico|\n",
      "|          DO|Dominican Republic|\n",
      "|          GT|         Guatemala|\n",
      "|          JM|           Jamaica|\n",
      "|          DM|          Dominica|\n",
      "|          PK|          Pakistan|\n",
      "|          NI|         Nicaragua|\n",
      "|          SV|       El Salvador|\n",
      "|          CR|        Costa Rica|\n",
      "|          HT|             Haiti|\n",
      "|          PR|       Puerto Rico|\n",
      "|          PE|              Peru|\n",
      "|          PA|            Panama|\n",
      "|          LC|       Saint Lucia|\n",
      "|          HN|          Honduras|\n",
      "|          BB|          Barbados|\n",
      "+------------+------------------+\n",
      "only showing top 20 rows\n",
      "\n"
     ]
    }
   ],
   "source": [
    "country_df.show()"
   ]
  },
  {
   "cell_type": "code",
   "execution_count": 33,
   "id": "51b99dc1-c155-4ee8-a857-9596c22da57f",
   "metadata": {},
   "outputs": [],
   "source": [
    "countries_df_with_schema = country_df.withColumnRenamed(\"country_name\", \"country_temp\")\n",
    "countries_df_with_schema = countries_df_with_schema.withColumnRenamed(\"country_code\", \"country_name\")\n",
    "countries_df_with_schema = countries_df_with_schema.withColumnRenamed(\"country_temp\", \"country_code\")"
   ]
  },
  {
   "cell_type": "code",
   "execution_count": 34,
   "id": "044a5b17-edd2-4369-b273-8c00f6e3f6d2",
   "metadata": {},
   "outputs": [
    {
     "name": "stdout",
     "output_type": "stream",
     "text": [
      "+------------+------------------+\n",
      "|country_code|      country_name|\n",
      "+------------+------------------+\n",
      "|          US|     United States|\n",
      "|          CA|            Canada|\n",
      "|          CO|          Colombia|\n",
      "|          EC|           Ecuador|\n",
      "|          MX|            Mexico|\n",
      "|          DO|Dominican Republic|\n",
      "|          GT|         Guatemala|\n",
      "|          JM|           Jamaica|\n",
      "|          DM|          Dominica|\n",
      "|          PK|          Pakistan|\n",
      "|          NI|         Nicaragua|\n",
      "|          SV|       El Salvador|\n",
      "|          CR|        Costa Rica|\n",
      "|          HT|             Haiti|\n",
      "|          PR|       Puerto Rico|\n",
      "|          PE|              Peru|\n",
      "|          PA|            Panama|\n",
      "|          LC|       Saint Lucia|\n",
      "|          HN|          Honduras|\n",
      "|          BB|          Barbados|\n",
      "+------------+------------------+\n",
      "only showing top 20 rows\n",
      "\n"
     ]
    }
   ],
   "source": [
    "countries_df_with_schema.show()"
   ]
  },
  {
   "cell_type": "code",
   "execution_count": 35,
   "id": "b7c9f217-2c76-4546-b8b7-345e33caa441",
   "metadata": {},
   "outputs": [],
   "source": [
    "joined_data = dinest_df.join(\n",
    "    country_df,\n",
    "    dinest_df[\"country_code\"] == country_df[\"country_code\"],\n",
    "    \"left\"\n",
    ").drop(country_df[\"country_code\"])"
   ]
  },
  {
   "cell_type": "code",
   "execution_count": 37,
   "id": "03722608-4b74-4346-88d6-d0e5cd4b517e",
   "metadata": {},
   "outputs": [
    {
     "name": "stdout",
     "output_type": "stream",
     "text": [
      "+----+--------+--------------+--------+----------+------------+-----------------+--------------------+----------+--------+---------+----+-----+------------+\n",
      "|  id|distance|landslide_size|injuries|fatalities|country_code|   state/province|           city/town|population|latitude|longitude|date| time|country_name|\n",
      "+----+--------+--------------+--------+----------+------------+-----------------+--------------------+----------+--------+---------+----+-----+------------+\n",
      "|null| 9.51003|        Medium|    null|         7|          MX|   Veracruz-Llave|Laguna Chica (Pue...|      1947| 18.5369| -96.8229|null| null|        null|\n",
      "|null| 2.98682|         Small|    null|      null|          CA|           Quebec|         Châteauguay|     42786| 45.3226| -73.7771|null| null|        null|\n",
      "|null| 1.74759|         Small|    null|      null|          CA|          Ontario|              Ottawa|    812129| 45.4257| -75.6896|null| null|        null|\n",
      "|null| 4.74385|        Medium|    null|         5|          GT|        Guatemala|     San José Pinula|     47247| 14.5667|   -90.45|null| null|        null|\n",
      "|null| 0.47714|        Medium|    null|      null|          EC| Zamora-Chinchipe|              Zamora|     15276|  -4.065|  -78.951|null| null|        null|\n",
      "|null| 0.35649|        Medium|    null|      null|          EC|             Loja|                Loja|    117796|   -3.99|  -79.205|null| null|        null|\n",
      "|null|33.94603|        Medium|    null|      null|          EC|        Pichincha|           Sangolquí|      5114|  -0.356|  -78.148|null| null|        null|\n",
      "|null| 3.40765|         Small|    null|      null|          US|         Virginia|         Cherry Hill|     16000| 38.6009| -77.2682|null|Night|        null|\n",
      "|null| 3.33522|         Small|    null|      null|          US|             Ohio|    New Philadelphia|     17288| 40.5175| -81.4305|null| null|        null|\n",
      "|null| 2.91977|         Small|    null|      null|          US|     Pennsylvania|         Wilkinsburg|     15930| 40.4377|  -79.916|null| null|        null|\n",
      "|null| 5.66542|         Small|    null|         0|          US|         Kentucky|           Pikeville|      6903| 37.4325| -82.4931|null| null|        null|\n",
      "|null| 0.23715|         Small|    null|      null|          US|         Kentucky|           Pikeville|      6903| 37.4814| -82.5186|null| null|        null|\n",
      "|null| 2.48033|         Small|    null|      null|          US|     South Dakota|        Dakota Dunes|      2540| 42.4941| -96.4576|null| null|        null|\n",
      "|null| 0.03668|        Medium|    null|      null|          US|            Texas|         Haltom City|     42409| 32.7995| -97.2688|null| null|        null|\n",
      "|null| 5.66936|         Small|    null|      null|          US|            Texas|       Grand Prairie|    175396| 32.7883| -97.0317|null| null|        null|\n",
      "|null|10.87949|        Medium|    null|      null|          US|         Colorado|              Meeker|      2475| 39.9425|-107.8818|null| null|        null|\n",
      "|null|22.31062|        Medium|    null|      null|          US|        Minnesota|           Caledonia|      2868|  43.596| -91.2256|null| null|        null|\n",
      "|null| 7.79027|        Medium|    null|      null|          JM|         Portland|        Port Antonio|     14400| 18.1258| -76.5082|null| null|        null|\n",
      "|null| 3.39516|         Small|    null|         2|          DM|       Saint Paul|          Pont Cassé|       702| 15.3379|  -61.361|null| null|        null|\n",
      "|null| 1.70298|         Small|    null|      null|          DO|Distrito Nacional|          San Carlos|     13456| 18.4757|  -69.914|null|Night|        null|\n",
      "+----+--------+--------------+--------+----------+------------+-----------------+--------------------+----------+--------+---------+----+-----+------------+\n",
      "only showing top 20 rows\n",
      "\n"
     ]
    }
   ],
   "source": [
    "joined_data.show()"
   ]
  },
  {
   "cell_type": "code",
   "execution_count": 38,
   "id": "2e8fc8c6-90ce-43ca-9662-64b096079705",
   "metadata": {},
   "outputs": [],
   "source": [
    "joined_data.write.format(\"json\").save(\"output/data\")"
   ]
  },
  {
   "cell_type": "code",
   "execution_count": null,
   "id": "f8b0c04a-34ce-4089-8a7b-4d6fb39613d5",
   "metadata": {},
   "outputs": [],
   "source": []
  }
 ],
 "metadata": {
  "kernelspec": {
   "display_name": "Python 3 (ipykernel)",
   "language": "python",
   "name": "python3"
  },
  "language_info": {
   "codemirror_mode": {
    "name": "ipython",
    "version": 3
   },
   "file_extension": ".py",
   "mimetype": "text/x-python",
   "name": "python",
   "nbconvert_exporter": "python",
   "pygments_lexer": "ipython3",
   "version": "3.10.8"
  }
 },
 "nbformat": 4,
 "nbformat_minor": 5
}
