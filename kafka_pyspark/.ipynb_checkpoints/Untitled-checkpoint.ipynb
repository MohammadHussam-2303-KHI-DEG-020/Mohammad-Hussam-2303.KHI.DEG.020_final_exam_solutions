{
 "cells": [
  {
   "cell_type": "code",
   "execution_count": 31,
   "id": "065c57ee-f9b9-4183-90f3-a2cf104fcad0",
   "metadata": {},
   "outputs": [],
   "source": [
    "from pyspark.sql import SparkSession\n",
    "from pyspark.sql.functions import from_json,col, isnan, when, lower\n",
    "from pyspark.sql.types import StructType, StringType, FloatType, IntegerType, StructField,DoubleType,T\n",
    "from pyspark.sql import functions as F"
   ]
  },
  {
   "cell_type": "code",
   "execution_count": 5,
   "id": "bb10ae26-c7ff-4737-92fa-45349eeb300c",
   "metadata": {},
   "outputs": [],
   "source": [
    "spark = (\n",
    "    SparkSession.builder.master(\"local[1]\")\n",
    "    .appName(\"solution\")\n",
    "    .config(\n",
    "        \"spark.jars.packages\",\n",
    "        \"org.apache.spark:spark-sql-kafka-0-10_2.12:3.3.1\",\n",
    "    )\n",
    "    .getOrCreate()\n",
    ")"
   ]
  },
  {
   "cell_type": "code",
   "execution_count": 6,
   "id": "a400b68b-8aa0-4535-b4f1-e219f632fd29",
   "metadata": {},
   "outputs": [
    {
     "data": {
      "text/html": [
       "\n",
       "            <div>\n",
       "                <p><b>SparkSession - in-memory</b></p>\n",
       "                \n",
       "        <div>\n",
       "            <p><b>SparkContext</b></p>\n",
       "\n",
       "            <p><a href=\"http://192.168.4.159:4040\">Spark UI</a></p>\n",
       "\n",
       "            <dl>\n",
       "              <dt>Version</dt>\n",
       "                <dd><code>v3.3.1</code></dd>\n",
       "              <dt>Master</dt>\n",
       "                <dd><code>local[1]</code></dd>\n",
       "              <dt>AppName</dt>\n",
       "                <dd><code>solution</code></dd>\n",
       "            </dl>\n",
       "        </div>\n",
       "        \n",
       "            </div>\n",
       "        "
      ],
      "text/plain": [
       "<pyspark.sql.session.SparkSession at 0x7fed2c013310>"
      ]
     },
     "execution_count": 6,
     "metadata": {},
     "output_type": "execute_result"
    }
   ],
   "source": [
    "spark"
   ]
  },
  {
   "cell_type": "code",
   "execution_count": 7,
   "id": "f89f4be3-d089-4da1-95a7-78c6e8e7fd96",
   "metadata": {},
   "outputs": [],
   "source": [
    "landslides_schema = StructType([\n",
    "    StructField(\"id\", StringType()),\n",
    "    StructField(\"distance\", StringType()),\n",
    "    StructField(\"landslide_size\", StringType()),\n",
    "    StructField(\"injuries\", StringType()),\n",
    "    StructField(\"fatalities\", StringType()),\n",
    "     StructField(\"location_columns\", StructType([\n",
    "         StructField(\"country_code\", StringType()),\n",
    "         StructField(\"state/province\", StringType()),\n",
    "         StructField(\"city/town\", StringType()),\n",
    "         StructField(\"population\", StringType()),\n",
    "         StructField(\"latitude\", StringType()),\n",
    "         StructField(\"longitude\", StringType())\n",
    "     ])),\n",
    "        StructField(\"time_columns\", StructType([\n",
    "        StructField(\"date\", StringType()),\n",
    "        StructField(\"time\", StringType()),\n",
    "     ]))\n",
    "])\n"
   ]
  },
  {
   "cell_type": "code",
   "execution_count": 8,
   "id": "8931e208-232f-4f4e-9986-37c3e1dd4a1f",
   "metadata": {},
   "outputs": [
    {
     "name": "stdout",
     "output_type": "stream",
     "text": [
      "root\n",
      " |-- key: binary (nullable = true)\n",
      " |-- value: binary (nullable = true)\n",
      " |-- topic: string (nullable = true)\n",
      " |-- partition: integer (nullable = true)\n",
      " |-- offset: long (nullable = true)\n",
      " |-- timestamp: timestamp (nullable = true)\n",
      " |-- timestampType: integer (nullable = true)\n",
      "\n"
     ]
    }
   ],
   "source": [
    "data = spark \\\n",
    "  .read \\\n",
    "  .format(\"kafka\") \\\n",
    "  .option(\"kafka.bootstrap.servers\", \"localhost:9092\") \\\n",
    "  .option(\"subscribe\", \"landslides_topic\") \\\n",
    "  .option(\"failOnDataLoss\", \"true\") \\\n",
    "  .load()\n",
    "data.printSchema()"
   ]
  },
  {
   "cell_type": "code",
   "execution_count": 13,
   "id": "ca56c1ac-d86c-4d43-a848-4bddeee3cf66",
   "metadata": {},
   "outputs": [
    {
     "name": "stdout",
     "output_type": "stream",
     "text": [
      "+---+--------+--------------+--------+----------+--------------------+---------------+\n",
      "| id|distance|landslide_size|injuries|fatalities|    location_columns|   time_columns|\n",
      "+---+--------+--------------+--------+----------+--------------------+---------------+\n",
      "| 34| 3.40765|         Small|    null|      null|{US, Virginia, Ch...|{3/2/07, Night}|\n",
      "| 42| 3.33522|         Small|    null|      null|{US, Ohio, New Ph...|{3/22/07, null}|\n",
      "| 56| 2.91977|         Small|    null|      null|{US, Pennsylvania...| {4/6/07, null}|\n",
      "| 59| 2.98682|         Small|    null|      null|{CA, Quebec, Chât...|{4/14/07, null}|\n",
      "| 61| 5.66542|         Small|    null|       0.0|{US, Kentucky, Pi...|{4/15/07, null}|\n",
      "+---+--------+--------------+--------+----------+--------------------+---------------+\n",
      "only showing top 5 rows\n",
      "\n",
      "root\n",
      " |-- id: string (nullable = true)\n",
      " |-- distance: string (nullable = true)\n",
      " |-- landslide_size: string (nullable = true)\n",
      " |-- injuries: string (nullable = true)\n",
      " |-- fatalities: string (nullable = true)\n",
      " |-- location_columns: struct (nullable = true)\n",
      " |    |-- country_code: string (nullable = true)\n",
      " |    |-- state/province: string (nullable = true)\n",
      " |    |-- city/town: string (nullable = true)\n",
      " |    |-- population: string (nullable = true)\n",
      " |    |-- latitude: string (nullable = true)\n",
      " |    |-- longitude: string (nullable = true)\n",
      " |-- time_columns: struct (nullable = true)\n",
      " |    |-- date: string (nullable = true)\n",
      " |    |-- time: string (nullable = true)\n",
      "\n"
     ]
    }
   ],
   "source": [
    "parse_data = data.selectExpr(\"CAST(value AS STRING)\").select(from_json(col(\"value\"), landslides_schema).alias(\"data\")).select(\"data.*\")\n",
    "parse_data.show(5)\n",
    "parse_data.printSchema()"
   ]
  },
  {
   "cell_type": "code",
   "execution_count": 14,
   "id": "0d421781-2037-491d-bfa5-10b9b90f02eb",
   "metadata": {},
   "outputs": [
    {
     "data": {
      "text/plain": [
       "3386"
      ]
     },
     "execution_count": 14,
     "metadata": {},
     "output_type": "execute_result"
    }
   ],
   "source": [
    "parse_data.count()"
   ]
  },
  {
   "cell_type": "code",
   "execution_count": 17,
   "id": "11b8b7bf-2b22-49eb-bbf2-6a4ff0ead84f",
   "metadata": {},
   "outputs": [],
   "source": [
    "denest_df = parse_data.dropDuplicates()"
   ]
  },
  {
   "cell_type": "code",
   "execution_count": 19,
   "id": "64d447a5-c094-4af2-a7d6-904f7e7fba14",
   "metadata": {},
   "outputs": [
    {
     "name": "stdout",
     "output_type": "stream",
     "text": [
      "+----+--------+--------------+--------+----------+--------------------+------------------+\n",
      "|  id|distance|landslide_size|injuries|fatalities|    location_columns|      time_columns|\n",
      "+----+--------+--------------+--------+----------+--------------------+------------------+\n",
      "| 277| 2.79113|        Medium|    null|       3.0|{GT, Guatemala, G...|   {9/22/07, null}|\n",
      "| 984| 4.86398|        Medium|    null|       0.0|{DO, Santiago, Pe...|   {2/12/09, null}|\n",
      "|2156| 4.00979|         Small|    null|       0.0|{TT, Diego Martin...|   {7/29/10, null}|\n",
      "|3130|  3.7758|        Medium|    null|       0.0|{JM, Saint Mary, ...|   {2/16/11, null}|\n",
      "|3825| 3.75018|        Medium|    null|       0.0|{US, Florida, Wil...|   {7/21/11, null}|\n",
      "|4613| 4.23278|        Medium|    null|      null|{US, North Caroli...|  {11/14/12, null}|\n",
      "|4715| 5.63904|        Medium|    null|      null|{US, North Caroli...|   {1/15/13, null}|\n",
      "|4922| 1.41843|         Small|    null|       0.0|{US, New York, Mi...|{6/16/13, 0:00:00}|\n",
      "|5078| 7.51462|        Medium|    null|       0.0|{US, West Virgini...|   {7/11/13, null}|\n",
      "|5981| 5.24704|         Small|     0.0|       0.0|{US, Kentucky, Ca...|    {4/4/14, null}|\n",
      "+----+--------+--------------+--------+----------+--------------------+------------------+\n",
      "only showing top 10 rows\n",
      "\n"
     ]
    }
   ],
   "source": [
    "denest_df.drop('time').show(10)"
   ]
  },
  {
   "cell_type": "code",
   "execution_count": 22,
   "id": "7ac1d406-1fc3-43bc-bf13-5300a0f7728a",
   "metadata": {},
   "outputs": [
    {
     "name": "stdout",
     "output_type": "stream",
     "text": [
      "+---+--------+--------------+--------+----------+------------+----------------+----------------+----------+--------+---------+-------+-----+\n",
      "| id|distance|landslide_size|injuries|fatalities|country_code|  state/province|       city/town|population|latitude|longitude|   date| time|\n",
      "+---+--------+--------------+--------+----------+------------+----------------+----------------+----------+--------+---------+-------+-----+\n",
      "| 34| 3.40765|         Small|    null|      null|          US|        Virginia|     Cherry Hill|     16000| 38.6009| -77.2682| 3/2/07|Night|\n",
      "| 42| 3.33522|         Small|    null|      null|          US|            Ohio|New Philadelphia|     17288| 40.5175| -81.4305|3/22/07| null|\n",
      "| 56| 2.91977|         Small|    null|      null|          US|    Pennsylvania|     Wilkinsburg|     15930| 40.4377|  -79.916| 4/6/07| null|\n",
      "| 59| 2.98682|         Small|    null|      null|          CA|          Quebec|     Châteauguay|     42786| 45.3226| -73.7771|4/14/07| null|\n",
      "| 61| 5.66542|         Small|    null|       0.0|          US|        Kentucky|       Pikeville|      6903| 37.4325| -82.4931|4/15/07| null|\n",
      "| 64| 0.23715|         Small|    null|      null|          US|        Kentucky|       Pikeville|      6903| 37.4814| -82.5186|4/20/07| null|\n",
      "| 67| 2.48033|         Small|    null|      null|          US|    South Dakota|    Dakota Dunes|      2540| 42.4941| -96.4576|4/24/07| null|\n",
      "| 77| 0.62022|         Large|    null|      13.0|          CO|       Risaralda|         Pereira|    440118|  4.8081| -75.6941|5/21/07| null|\n",
      "|105| 0.47714|        Medium|    null|      null|          EC|Zamora-Chinchipe|          Zamora|     15276|  -4.065|  -78.951|6/27/07| null|\n",
      "|106| 0.35649|        Medium|    null|      null|          EC|            Loja|            Loja|    117796|   -3.99|  -79.205|6/27/07| null|\n",
      "+---+--------+--------------+--------+----------+------------+----------------+----------------+----------+--------+---------+-------+-----+\n",
      "only showing top 10 rows\n",
      "\n"
     ]
    }
   ],
   "source": [
    "\n",
    "dinest_df = parse_data.select(\n",
    "    \"id\",\n",
    "    \"distance\",\n",
    "    \"landslide_size\",\n",
    "    \"injuries\",\n",
    "    \"fatalities\",\n",
    "    \"location_columns.*\",\n",
    "    \"time_columns.*\"\n",
    "    \n",
    ")\n",
    "dinest_df.show(10)"
   ]
  },
  {
   "cell_type": "code",
   "execution_count": 23,
   "id": "0cfb98e5-35ab-4390-81dd-7e06ef7ac626",
   "metadata": {},
   "outputs": [],
   "source": [
    "dinest_df = dinest_df.fillna({\"latitude\": dinest_df.agg({'latitude': 'avg'}).collect()[0][0]})\n",
    "dinest_df = dinest_df.fillna({\"longitude\": dinest_df.agg({'longitude': 'avg'}).collect()[0][0]})\n",
    "dinest_df = dinest_df.fillna({\"distance\": dinest_df.agg({'distance': 'avg'}).collect()[0][0]})\n"
   ]
  },
  {
   "cell_type": "code",
   "execution_count": 27,
   "id": "6c947abb-2004-45f3-9862-b9ef619201a7",
   "metadata": {},
   "outputs": [
    {
     "name": "stdout",
     "output_type": "stream",
     "text": [
      "+---+--------+--------------+--------+----------+------------+-----------------+--------------------+----------+--------+---------+-------+-----+\n",
      "| id|distance|landslide_size|injuries|fatalities|country_code|   state/province|           city/town|population|latitude|longitude|   date| time|\n",
      "+---+--------+--------------+--------+----------+------------+-----------------+--------------------+----------+--------+---------+-------+-----+\n",
      "| 34| 3.40765|         Small|    null|      null|          US|         Virginia|         Cherry Hill|     16000| 38.6009| -77.2682| 3/2/07|Night|\n",
      "| 42| 3.33522|         Small|    null|      null|          US|             Ohio|    New Philadelphia|     17288| 40.5175| -81.4305|3/22/07| null|\n",
      "| 56| 2.91977|         Small|    null|      null|          US|     Pennsylvania|         Wilkinsburg|     15930| 40.4377|  -79.916| 4/6/07| null|\n",
      "| 59| 2.98682|         Small|    null|      null|          CA|           Quebec|         Châteauguay|     42786| 45.3226| -73.7771|4/14/07| null|\n",
      "| 61| 5.66542|         Small|    null|       0.0|          US|         Kentucky|           Pikeville|      6903| 37.4325| -82.4931|4/15/07| null|\n",
      "| 64| 0.23715|         Small|    null|      null|          US|         Kentucky|           Pikeville|      6903| 37.4814| -82.5186|4/20/07| null|\n",
      "| 67| 2.48033|         Small|    null|      null|          US|     South Dakota|        Dakota Dunes|      2540| 42.4941| -96.4576|4/24/07| null|\n",
      "| 77| 0.62022|         Large|    null|      13.0|          CO|        Risaralda|             Pereira|    440118|  4.8081| -75.6941|5/21/07| null|\n",
      "|105| 0.47714|        Medium|    null|      null|          EC| Zamora-Chinchipe|              Zamora|     15276|  -4.065|  -78.951|6/27/07| null|\n",
      "|106| 0.35649|        Medium|    null|      null|          EC|             Loja|                Loja|    117796|   -3.99|  -79.205|6/27/07| null|\n",
      "|107|33.94603|        Medium|    null|      null|          EC|        Pichincha|           Sangolquí|      5114|  -0.356|  -78.148|6/27/07| null|\n",
      "|109| 0.03668|        Medium|    null|      null|          US|            Texas|         Haltom City|     42409| 32.7995| -97.2688| 7/1/07| null|\n",
      "|115| 9.51003|        Medium|    null|       7.0|          MX|   Veracruz-Llave|Laguna Chica (Pue...|      1947| 18.5369| -96.8229| 7/4/07| null|\n",
      "|119| 1.74759|         Small|    null|      null|          CA|          Ontario|              Ottawa|    812129| 45.4257| -75.6896| 7/8/07| null|\n",
      "|124| 1.70298|         Small|    null|      null|          DO|Distrito Nacional|          San Carlos|     13456| 18.4757|  -69.914|7/13/07|Night|\n",
      "|138| 5.66936|         Small|    null|      null|          US|            Texas|       Grand Prairie|    175396| 32.7883| -97.0317|7/24/07| null|\n",
      "|165| 4.74385|        Medium|    null|       5.0|          GT|        Guatemala|     San José Pinula|     47247| 14.5667|   -90.45| 8/9/07| null|\n",
      "|174| 7.79027|        Medium|    null|      null|          JM|         Portland|        Port Antonio|     14400| 18.1258| -76.5082|8/11/07| null|\n",
      "|185|10.87949|        Medium|    null|      null|          US|         Colorado|              Meeker|      2475| 39.9425|-107.8818|8/14/07| null|\n",
      "|186| 3.39516|         Small|    null|       2.0|          DM|       Saint Paul|          Pont Cassé|       702| 15.3379|  -61.361|8/17/07| null|\n",
      "+---+--------+--------------+--------+----------+------------+-----------------+--------------------+----------+--------+---------+-------+-----+\n",
      "only showing top 20 rows\n",
      "\n"
     ]
    }
   ],
   "source": [
    "\n",
    "df_not_null = dinest_df.filter((F.col(\"date\").isNotNull()) & \\\n",
    "            (F.col(\"state/province\").isNotNull()) & \\\n",
    "             (F.col(\"city/town\").isNotNull()))\n",
    "\n",
    "df_not_null.show()"
   ]
  },
  {
   "cell_type": "code",
   "execution_count": 28,
   "id": "4c6be5d1-6c59-4742-8604-862fde63d22a",
   "metadata": {},
   "outputs": [
    {
     "ename": "NameError",
     "evalue": "name 'T' is not defined",
     "output_type": "error",
     "traceback": [
      "\u001b[0;31m---------------------------------------------------------------------------\u001b[0m",
      "\u001b[0;31mNameError\u001b[0m                                 Traceback (most recent call last)",
      "Cell \u001b[0;32mIn[30], line 1\u001b[0m\n\u001b[0;32m----> 1\u001b[0m dinest_df\u001b[38;5;241m=\u001b[39mdinest_df\u001b[38;5;241m.\u001b[39mwithColumn(\u001b[38;5;124m\"\u001b[39m\u001b[38;5;124mid\u001b[39m\u001b[38;5;124m\"\u001b[39m, F\u001b[38;5;241m.\u001b[39mcol(\u001b[38;5;124m\"\u001b[39m\u001b[38;5;124minjuries\u001b[39m\u001b[38;5;124m\"\u001b[39m)\u001b[38;5;241m.\u001b[39mcast(\u001b[43mT\u001b[49m\u001b[38;5;241m.\u001b[39mIntegerType()))\\\n\u001b[1;32m      2\u001b[0m            \u001b[38;5;241m.\u001b[39mwithColumn(\u001b[38;5;124m\"\u001b[39m\u001b[38;5;124minjuries\u001b[39m\u001b[38;5;124m\"\u001b[39m, F\u001b[38;5;241m.\u001b[39mcol(\u001b[38;5;124m\"\u001b[39m\u001b[38;5;124minjuries\u001b[39m\u001b[38;5;124m\"\u001b[39m)\u001b[38;5;241m.\u001b[39mcast(T\u001b[38;5;241m.\u001b[39mIntegerType()))\\\n\u001b[1;32m      3\u001b[0m            \u001b[38;5;241m.\u001b[39mwithColumn(\u001b[38;5;124m\"\u001b[39m\u001b[38;5;124mfatalities\u001b[39m\u001b[38;5;124m\"\u001b[39m, F\u001b[38;5;241m.\u001b[39mcol(\u001b[38;5;124m\"\u001b[39m\u001b[38;5;124mfatalities\u001b[39m\u001b[38;5;124m\"\u001b[39m)\u001b[38;5;241m.\u001b[39mcast(T\u001b[38;5;241m.\u001b[39mIntegerType()))\\\n\u001b[1;32m      4\u001b[0m            \u001b[38;5;241m.\u001b[39mwithColumn(\u001b[38;5;124m\"\u001b[39m\u001b[38;5;124mdate\u001b[39m\u001b[38;5;124m\"\u001b[39m, F\u001b[38;5;241m.\u001b[39mcol(\u001b[38;5;124m\"\u001b[39m\u001b[38;5;124mdate\u001b[39m\u001b[38;5;124m\"\u001b[39m)\u001b[38;5;241m.\u001b[39mcast(T\u001b[38;5;241m.\u001b[39mDateType()))\n",
      "\u001b[0;31mNameError\u001b[0m: name 'T' is not defined"
     ]
    }
   ],
   "source": [
    "dinest_df=dinest_df.withColumn(\"id\", F.col(\"injuries\").cast(T.IntegerType()))\\\n",
    "           .withColumn(\"injuries\", F.col(\"injuries\").cast(T.IntegerType()))\\\n",
    "           .withColumn(\"fatalities\", F.col(\"fatalities\").cast(T.IntegerType()))\\\n",
    "           .withColumn(\"date\", F.col(\"date\").cast(T.DateType()))"
   ]
  },
  {
   "cell_type": "code",
   "execution_count": null,
   "id": "e550313a-43a8-464f-aad7-8535b0660b01",
   "metadata": {},
   "outputs": [],
   "source": []
  }
 ],
 "metadata": {
  "kernelspec": {
   "display_name": "Python 3 (ipykernel)",
   "language": "python",
   "name": "python3"
  },
  "language_info": {
   "codemirror_mode": {
    "name": "ipython",
    "version": 3
   },
   "file_extension": ".py",
   "mimetype": "text/x-python",
   "name": "python",
   "nbconvert_exporter": "python",
   "pygments_lexer": "ipython3",
   "version": "3.10.8"
  }
 },
 "nbformat": 4,
 "nbformat_minor": 5
}
